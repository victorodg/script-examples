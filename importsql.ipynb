{
 "cells": [
  {
   "cell_type": "code",
   "execution_count": null,
   "metadata": {},
   "outputs": [],
   "source": [
    "import pandas as pd\n",
    "from sqlalchemy import create_engine\n",
    "from tabulate import tabulate\n",
    "\n",
    "import openpyxl\n",
    "from openpyxl.worksheet.worksheet import Worksheet\n",
    "from openpyxl.utils.dataframe import dataframe_to_rows\n",
    "\n",
    "def search_table(string):\n",
    "    sql_tables = pd.read_sql('''\n",
    "    select *\n",
    "    from information_schema.tables\n",
    "    ''', string_connect)\n",
    "\n",
    "    sql_tables = sql_tables[sql_tables['TABLE_NAME'].str.contains(string)]\n",
    "\n",
    "    def concat_values(row):\n",
    "        return f\"{row['TABLE_SCHEMA']}.{row['TABLE_NAME']}\"\n",
    "\n",
    "    sql_tables = sql_tables.reset_index(drop=True)\n",
    "\n",
    "    sql_tables = sql_tables[['TABLE_NAME']]\n",
    "\n",
    "    print(tabulate(sql_tables, headers='keys', tablefmt='pretty'))\n",
    "\n",
    "def list_columns(table):\n",
    "\n",
    "    sql_columns = pd.read_sql('''\n",
    "    select name\n",
    "    from sys.columns\n",
    "    where object_id = OBJECT_ID('''+'\\''+table+'\\''+''');\n",
    "    ''',string_connect)\n",
    "\n",
    "    for i in range(len(sql_columns)):\n",
    "        if i != len(sql_columns) - 1:\n",
    "            print(sql_columns['name'][i], ', ')\n",
    "        else: print(sql_columns['name'][i])\n",
    "\n",
    "def export_to_excel(dataframes, filename):\n",
    "    # Create a workbook\n",
    "    workbook = openpyxl.Workbook()\n",
    "    \n",
    "    def get_df_name(df):\n",
    "        name = [x for x in globals() if globals()[x] is df][0]\n",
    "        return name\n",
    "\n",
    "    for df in dataframes:\n",
    "\n",
    "        # get the name of the dataframe\n",
    "        sheet_name = get_df_name(df)\n",
    "\n",
    "        # Create a worksheet\n",
    "        worksheet = workbook.create_sheet(sheet_name)\n",
    "        \n",
    "        # Write the data from the dataframe to the worksheet\n",
    "        for row in dataframe_to_rows(df, index=False, header=True):\n",
    "            worksheet.append(row)\n",
    "        \n",
    "        # Set the column widths\n",
    "        for column in df:\n",
    "            column_length = max(df[column].astype(str).map(len).max(), len(column)) + 10\n",
    "            col_idx = df.columns.get_loc(column)\n",
    "            worksheet.column_dimensions[openpyxl.utils.get_column_letter(col_idx+1)].width = column_length\n",
    "\n",
    "        # Freeze the header row\n",
    "        worksheet.freeze_panes = worksheet['A2']\n",
    "        \n",
    "        # Enable filters for the worksheet\n",
    "        num_rows, num_cols = df.shape\n",
    "        cell_range = f'A1:{openpyxl.utils.get_column_letter(num_cols)}{num_rows}'\n",
    "        worksheet.auto_filter.ref = cell_range\n",
    "    \n",
    "    del workbook['Sheet']\n",
    "    \n",
    "    # Save the workbook\n",
    "    workbook.save(filename)\n",
    "\n",
    "def login(dev_or_prod):\n",
    "\n",
    "    if dev_or_prod == 'dev':\n",
    "        user_sql = 'victorodg'\n",
    "        pass_sql = '123456'\n",
    "        server = 'SQLDEV001'\n",
    "        database = 'DBSV001'\n",
    "\n",
    "    elif dev_or_prod == 'prod':\n",
    "        user_sql = 'victorodg'\n",
    "        pass_sql = '123456'\n",
    "        server = 'SQLPRC001'\n",
    "        database = 'DBSV001'\n",
    "\n",
    "    string_connect = 'mssql+pyodbc://' + user_sql + ':' + pass_sql + '@' + server + '/' + database + '?driver=SQL+Server'\n",
    "    engine = create_engine(string_connect,echo=False,pool_size=50,max_overflow=50)\n",
    "\n",
    "    return [string_connect, engine]"
   ]
  },
  {
   "attachments": {},
   "cell_type": "markdown",
   "metadata": {},
   "source": [
    "# Login"
   ]
  },
  {
   "cell_type": "code",
   "execution_count": null,
   "metadata": {},
   "outputs": [],
   "source": [
    "#log = 'prod'\n",
    "log = 'dev'\n",
    "\n",
    "string_connect = login(log)[0]\n",
    "engine = login(log)[1]"
   ]
  },
  {
   "attachments": {},
   "cell_type": "markdown",
   "metadata": {},
   "source": [
    "# List tables"
   ]
  },
  {
   "cell_type": "code",
   "execution_count": null,
   "metadata": {},
   "outputs": [],
   "source": [
    "search_table('string_to_search_in_table_name')"
   ]
  },
  {
   "attachments": {},
   "cell_type": "markdown",
   "metadata": {},
   "source": [
    "# List columns"
   ]
  },
  {
   "cell_type": "code",
   "execution_count": null,
   "metadata": {},
   "outputs": [],
   "source": [
    "list_columns('table_name')"
   ]
  },
  {
   "attachments": {},
   "cell_type": "markdown",
   "metadata": {},
   "source": [
    "# Query"
   ]
  },
  {
   "cell_type": "code",
   "execution_count": null,
   "metadata": {},
   "outputs": [],
   "source": [
    "df = pd.read_sql('''\n",
    "\n",
    "select\n",
    "*\n",
    "\n",
    "from <table>\n",
    "where <argument>\n",
    "order by <order> desc\n",
    "\n",
    "''', string_connect)"
   ]
  },
  {
   "attachments": {},
   "cell_type": "markdown",
   "metadata": {},
   "source": [
    "# Export to .xlsx"
   ]
  },
  {
   "cell_type": "code",
   "execution_count": null,
   "metadata": {},
   "outputs": [],
   "source": [
    "export_to_excel([df],'./files/sql_query.xlsx')"
   ]
  }
 ],
 "metadata": {
  "kernelspec": {
   "display_name": "Python 3",
   "language": "python",
   "name": "python3"
  },
  "language_info": {
   "codemirror_mode": {
    "name": "ipython",
    "version": 3
   },
   "file_extension": ".py",
   "mimetype": "text/x-python",
   "name": "python",
   "nbconvert_exporter": "python",
   "pygments_lexer": "ipython3",
   "version": "3.10.7"
  },
  "orig_nbformat": 4,
  "vscode": {
   "interpreter": {
    "hash": "e7370f93d1d0cde622a1f8e1c04877d8463912d04d973331ad4851f04de6915a"
   }
  }
 },
 "nbformat": 4,
 "nbformat_minor": 2
}
